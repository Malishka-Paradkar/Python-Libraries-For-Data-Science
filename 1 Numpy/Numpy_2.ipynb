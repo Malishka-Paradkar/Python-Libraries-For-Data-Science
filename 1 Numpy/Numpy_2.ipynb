{
 "cells": [
  {
   "cell_type": "markdown",
   "id": "3a86c92c",
   "metadata": {},
   "source": [
    "# Array Manipulation"
   ]
  },
  {
   "cell_type": "markdown",
   "id": "b470ffc2",
   "metadata": {},
   "source": [
    "## 1)Changing Shape"
   ]
  },
  {
   "cell_type": "code",
   "execution_count": 1,
   "id": "408f24ba",
   "metadata": {},
   "outputs": [],
   "source": [
    "import numpy as np"
   ]
  },
  {
   "cell_type": "code",
   "execution_count": 2,
   "id": "359f5a31",
   "metadata": {},
   "outputs": [
    {
     "name": "stdout",
     "output_type": "stream",
     "text": [
      "The original array is:  [0 1 2 3 4 5 6 7 8]\n"
     ]
    }
   ],
   "source": [
    "a = np.arange(9)\n",
    "print('The original array is: ', a)"
   ]
  },
  {
   "cell_type": "code",
   "execution_count": 4,
   "id": "a5ae40da",
   "metadata": {},
   "outputs": [
    {
     "name": "stdout",
     "output_type": "stream",
     "text": [
      "The modified array is:  [[0 1 2]\n",
      " [3 4 5]\n",
      " [6 7 8]]\n"
     ]
    }
   ],
   "source": [
    "b = a.reshape(3,3)     # Has to be multiple of 9 meaning 3*3=9\n",
    "print('The modified array is: ', b)"
   ]
  },
  {
   "cell_type": "code",
   "execution_count": 1,
   "id": "fef50353",
   "metadata": {},
   "outputs": [],
   "source": [
    "#jaane kitna hai kiska hai"
   ]
  },
  {
   "cell_type": "code",
   "execution_count": 2,
   "id": "c1253587",
   "metadata": {},
   "outputs": [],
   "source": [
    "# my name is malishka "
   ]
  },
  {
   "cell_type": "code",
   "execution_count": null,
   "id": "b397452e",
   "metadata": {},
   "outputs": [],
   "source": []
  }
 ],
 "metadata": {
  "kernelspec": {
   "display_name": "Python 3 (ipykernel)",
   "language": "python",
   "name": "python3"
  },
  "language_info": {
   "codemirror_mode": {
    "name": "ipython",
    "version": 3
   },
   "file_extension": ".py",
   "mimetype": "text/x-python",
   "name": "python",
   "nbconvert_exporter": "python",
   "pygments_lexer": "ipython3",
   "version": "3.11.4"
  }
 },
 "nbformat": 4,
 "nbformat_minor": 5
}
