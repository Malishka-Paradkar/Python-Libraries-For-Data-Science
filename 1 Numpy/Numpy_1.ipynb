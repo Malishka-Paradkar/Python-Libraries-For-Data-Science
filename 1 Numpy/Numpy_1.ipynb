{
 "cells": [
  {
   "cell_type": "markdown",
   "id": "3103edbf",
   "metadata": {},
   "source": [
    "# Introduction to Numpy"
   ]
  },
  {
   "cell_type": "code",
   "execution_count": 1,
   "id": "44733f71",
   "metadata": {},
   "outputs": [],
   "source": [
    "import numpy as np"
   ]
  },
  {
   "cell_type": "markdown",
   "id": "8ea53a9c",
   "metadata": {},
   "source": [
    "## Basic Operations"
   ]
  },
  {
   "cell_type": "code",
   "execution_count": 12,
   "id": "5970030a-d268-438a-814b-dec9182c986e",
   "metadata": {},
   "outputs": [],
   "source": [
    "a = np.array([1,2,3,4])"
   ]
  },
  {
   "cell_type": "code",
   "execution_count": 3,
   "id": "27288a87-90d6-4c54-9e97-7e1e7cbaac0e",
   "metadata": {},
   "outputs": [
    {
     "name": "stdout",
     "output_type": "stream",
     "text": [
      "[1 2 3 4]\n"
     ]
    }
   ],
   "source": [
    "print(a)"
   ]
  },
  {
   "cell_type": "code",
   "execution_count": 4,
   "id": "05d1ef48-d070-4989-a7e4-e194da34bd64",
   "metadata": {},
   "outputs": [
    {
     "data": {
      "text/plain": [
       "array([1, 2, 3, 4])"
      ]
     },
     "execution_count": 4,
     "metadata": {},
     "output_type": "execute_result"
    }
   ],
   "source": [
    "a"
   ]
  },
  {
   "cell_type": "code",
   "execution_count": 5,
   "id": "3feebf99-95d9-42f8-8138-3d917077ca29",
   "metadata": {},
   "outputs": [
    {
     "name": "stdout",
     "output_type": "stream",
     "text": [
      "2\n"
     ]
    }
   ],
   "source": [
    "print (a[1])"
   ]
  },
  {
   "cell_type": "code",
   "execution_count": 6,
   "id": "b40a9372-b8be-4481-bb24-77b84b397fad",
   "metadata": {},
   "outputs": [
    {
     "data": {
      "text/plain": [
       "2"
      ]
     },
     "execution_count": 6,
     "metadata": {},
     "output_type": "execute_result"
    }
   ],
   "source": [
    "a[1]"
   ]
  },
  {
   "cell_type": "code",
   "execution_count": 13,
   "id": "6ba36007",
   "metadata": {},
   "outputs": [
    {
     "data": {
      "text/plain": [
       "dtype('int32')"
      ]
     },
     "execution_count": 13,
     "metadata": {},
     "output_type": "execute_result"
    }
   ],
   "source": [
    "a.dtype"
   ]
  },
  {
   "cell_type": "code",
   "execution_count": 10,
   "id": "a20b6d1d-496a-4aa6-82ed-f5c3e053e471",
   "metadata": {},
   "outputs": [
    {
     "data": {
      "text/plain": [
       "array([[1, 2],\n",
       "       [3, 4],\n",
       "       [5, 6]])"
      ]
     },
     "execution_count": 10,
     "metadata": {},
     "output_type": "execute_result"
    }
   ],
   "source": [
    "b = np.array([[1,2], [3,4], [5,6]])\n",
    "b"
   ]
  },
  {
   "cell_type": "markdown",
   "id": "25be99d0-efe1-4fef-9caa-354c00887948",
   "metadata": {},
   "source": [
    "**b.ndim tells us the dimension of the array**"
   ]
  },
  {
   "cell_type": "code",
   "execution_count": 12,
   "id": "aaf5ceef-0d8c-41b7-b20b-5c22cc3634f7",
   "metadata": {},
   "outputs": [
    {
     "data": {
      "text/plain": [
       "2"
      ]
     },
     "execution_count": 12,
     "metadata": {},
     "output_type": "execute_result"
    }
   ],
   "source": [
    "b.ndim"
   ]
  },
  {
   "cell_type": "markdown",
   "id": "b4762bfd-443b-4329-8e3e-8e9b3f9b260b",
   "metadata": {},
   "source": [
    "__b.itemsize tells us the memory size of each element__"
   ]
  },
  {
   "cell_type": "code",
   "execution_count": 14,
   "id": "223331c0-fa6f-48d1-98d9-37bca97f634f",
   "metadata": {},
   "outputs": [
    {
     "data": {
      "text/plain": [
       "4"
      ]
     },
     "execution_count": 14,
     "metadata": {},
     "output_type": "execute_result"
    }
   ],
   "source": [
    "b.itemsize"
   ]
  },
  {
   "cell_type": "markdown",
   "id": "5a7c0a3e-bb22-4f9e-97d1-77d8086f4292",
   "metadata": {},
   "source": [
    "__b.shape will tell us the shape of the array__"
   ]
  },
  {
   "cell_type": "code",
   "execution_count": 17,
   "id": "0a980465-ef40-44cb-b650-f64cfb05eed9",
   "metadata": {},
   "outputs": [
    {
     "data": {
      "text/plain": [
       "(3, 2)"
      ]
     },
     "execution_count": 17,
     "metadata": {},
     "output_type": "execute_result"
    }
   ],
   "source": [
    "b.shape"
   ]
  },
  {
   "cell_type": "code",
   "execution_count": 4,
   "id": "4ff6d5bd-c92a-4bf7-86bc-149424543aed",
   "metadata": {},
   "outputs": [
    {
     "data": {
      "text/plain": [
       "array([[1., 2.],\n",
       "       [3., 4.],\n",
       "       [5., 6.]])"
      ]
     },
     "execution_count": 4,
     "metadata": {},
     "output_type": "execute_result"
    }
   ],
   "source": [
    "b = np.array([[1,2], [3,4], [5,6]], dtype = np.float64)\n",
    "b"
   ]
  },
  {
   "cell_type": "markdown",
   "id": "879fa719",
   "metadata": {},
   "source": [
    "__b.size tells us the total number of elements in the array while b.itemsize tells us memory size of each element__"
   ]
  },
  {
   "cell_type": "code",
   "execution_count": 5,
   "id": "65df9beb",
   "metadata": {},
   "outputs": [
    {
     "data": {
      "text/plain": [
       "6"
      ]
     },
     "execution_count": 5,
     "metadata": {},
     "output_type": "execute_result"
    }
   ],
   "source": [
    "b.size"
   ]
  },
  {
   "cell_type": "code",
   "execution_count": 6,
   "id": "3c1baa4f",
   "metadata": {},
   "outputs": [
    {
     "data": {
      "text/plain": [
       "8"
      ]
     },
     "execution_count": 6,
     "metadata": {},
     "output_type": "execute_result"
    }
   ],
   "source": [
    "b.itemsize"
   ]
  },
  {
   "cell_type": "code",
   "execution_count": 7,
   "id": "b2e3eeaa",
   "metadata": {},
   "outputs": [
    {
     "data": {
      "text/plain": [
       "(3, 2)"
      ]
     },
     "execution_count": 7,
     "metadata": {},
     "output_type": "execute_result"
    }
   ],
   "source": [
    "b.shape"
   ]
  },
  {
   "cell_type": "code",
   "execution_count": 19,
   "id": "33dc1eb8",
   "metadata": {},
   "outputs": [
    {
     "data": {
      "text/plain": [
       "array([[0., 0., 0., 0.],\n",
       "       [0., 0., 0., 0.],\n",
       "       [0., 0., 0., 0.]])"
      ]
     },
     "execution_count": 19,
     "metadata": {},
     "output_type": "execute_result"
    }
   ],
   "source": [
    "np.zeros((3,4))"
   ]
  },
  {
   "cell_type": "code",
   "execution_count": 22,
   "id": "803c1b63",
   "metadata": {},
   "outputs": [
    {
     "data": {
      "text/plain": [
       "array([[1., 1., 1., 1., 1.],\n",
       "       [1., 1., 1., 1., 1.],\n",
       "       [1., 1., 1., 1., 1.],\n",
       "       [1., 1., 1., 1., 1.],\n",
       "       [1., 1., 1., 1., 1.]])"
      ]
     },
     "execution_count": 22,
     "metadata": {},
     "output_type": "execute_result"
    }
   ],
   "source": [
    "np.ones((5,5))"
   ]
  },
  {
   "cell_type": "code",
   "execution_count": 29,
   "id": "066204f0",
   "metadata": {},
   "outputs": [
    {
     "data": {
      "text/plain": [
       "range(0, 5)"
      ]
     },
     "execution_count": 29,
     "metadata": {},
     "output_type": "execute_result"
    }
   ],
   "source": [
    "l = range(0,5)\n",
    "l"
   ]
  },
  {
   "cell_type": "markdown",
   "id": "e04ef00a",
   "metadata": {},
   "source": [
    "__np.arange(1, 7) creates a NumPy array with values ranging from 1 to 6 (excluding 7)__"
   ]
  },
  {
   "cell_type": "code",
   "execution_count": 25,
   "id": "74272fa2",
   "metadata": {},
   "outputs": [
    {
     "data": {
      "text/plain": [
       "array([1, 2, 3, 4, 5, 6])"
      ]
     },
     "execution_count": 25,
     "metadata": {},
     "output_type": "execute_result"
    }
   ],
   "source": [
    "np.arange(1,7)"
   ]
  },
  {
   "cell_type": "markdown",
   "id": "dd2104d6",
   "metadata": {},
   "source": [
    "## Numpy String Functions"
   ]
  },
  {
   "cell_type": "markdown",
   "id": "ed038f0e",
   "metadata": {},
   "source": [
    "__Concatenation example__"
   ]
  },
  {
   "cell_type": "code",
   "execution_count": 30,
   "id": "675233e4",
   "metadata": {},
   "outputs": [
    {
     "data": {
      "text/plain": [
       "array(['helloadios', 'hiibyee'], dtype='<U10')"
      ]
     },
     "execution_count": 30,
     "metadata": {},
     "output_type": "execute_result"
    }
   ],
   "source": [
    "np.char.add(['hello', 'hii'], ['adios', 'byee'])"
   ]
  },
  {
   "cell_type": "code",
   "execution_count": 31,
   "id": "d931f7d0",
   "metadata": {},
   "outputs": [
    {
     "name": "stdout",
     "output_type": "stream",
     "text": [
      "['helloadios' 'hiibyee']\n"
     ]
    }
   ],
   "source": [
    "print(np.char.add(['hello', 'hii'], ['adios', 'byee']))"
   ]
  },
  {
   "cell_type": "code",
   "execution_count": 34,
   "id": "77a4eab9",
   "metadata": {},
   "outputs": [
    {
     "data": {
      "text/plain": [
       "array(['hello hello hello hello '], dtype='<U24')"
      ]
     },
     "execution_count": 34,
     "metadata": {},
     "output_type": "execute_result"
    }
   ],
   "source": [
    "np.char.multiply(['hello '], [4])"
   ]
  },
  {
   "cell_type": "code",
   "execution_count": 35,
   "id": "d4493d07",
   "metadata": {},
   "outputs": [
    {
     "name": "stdout",
     "output_type": "stream",
     "text": [
      "['hello hello hello hello ']\n"
     ]
    }
   ],
   "source": [
    "print(np.char.multiply(['hello '], [4]))"
   ]
  },
  {
   "cell_type": "code",
   "execution_count": 36,
   "id": "7fa56cc0",
   "metadata": {},
   "outputs": [
    {
     "name": "stdout",
     "output_type": "stream",
     "text": [
      "hello hello hello hello \n"
     ]
    }
   ],
   "source": [
    "print(np.char.multiply('hello ', 4))"
   ]
  },
  {
   "cell_type": "code",
   "execution_count": 37,
   "id": "5334bbf8",
   "metadata": {},
   "outputs": [
    {
     "name": "stdout",
     "output_type": "stream",
     "text": [
      "-------hello--------\n"
     ]
    }
   ],
   "source": [
    "print(np.char.center('hello', 20, fillchar = '-'))"
   ]
  },
  {
   "cell_type": "code",
   "execution_count": 2,
   "id": "b277b585",
   "metadata": {},
   "outputs": [
    {
     "name": "stdout",
     "output_type": "stream",
     "text": [
      "Hello world\n"
     ]
    }
   ],
   "source": [
    "print(np.char.capitalize('hello world'))"
   ]
  },
  {
   "cell_type": "code",
   "execution_count": 3,
   "id": "275bceb8",
   "metadata": {},
   "outputs": [
    {
     "name": "stdout",
     "output_type": "stream",
     "text": [
      "Hello World\n"
     ]
    }
   ],
   "source": [
    "print(np.char.title('hello world'))"
   ]
  },
  {
   "cell_type": "code",
   "execution_count": 8,
   "id": "0dc963a3",
   "metadata": {},
   "outputs": [
    {
     "name": "stdout",
     "output_type": "stream",
     "text": [
      "HELLO WORLD\n",
      "['HELLO WORLD']\n"
     ]
    }
   ],
   "source": [
    "print(np.char.upper('hello world'))\n",
    "print(np.char.upper(['hello world']))"
   ]
  },
  {
   "cell_type": "code",
   "execution_count": 9,
   "id": "17ba2a83",
   "metadata": {},
   "outputs": [
    {
     "name": "stdout",
     "output_type": "stream",
     "text": [
      "hello world\n",
      "['hello world']\n"
     ]
    }
   ],
   "source": [
    "print(np.char.lower('HELLO WORLD'))\n",
    "print(np.char.lower(['HELLO WORLD']))"
   ]
  },
  {
   "cell_type": "code",
   "execution_count": 10,
   "id": "6b3ba9de",
   "metadata": {},
   "outputs": [
    {
     "name": "stdout",
     "output_type": "stream",
     "text": [
      "['How', 'are', 'you', 'doing?']\n"
     ]
    }
   ],
   "source": [
    "print(np.char.split('How are you doing?'))"
   ]
  },
  {
   "cell_type": "code",
   "execution_count": 13,
   "id": "1ad14def",
   "metadata": {},
   "outputs": [
    {
     "name": "stdout",
     "output_type": "stream",
     "text": [
      "['How are you ', ' doing?']\n"
     ]
    }
   ],
   "source": [
    "print(np.char.splitlines('How are you \\n doing?'))"
   ]
  },
  {
   "cell_type": "markdown",
   "id": "3367b56c",
   "metadata": {},
   "source": [
    "__strip removes the leading and trailing letters or spaces or symbols__"
   ]
  },
  {
   "cell_type": "code",
   "execution_count": 14,
   "id": "a407f031",
   "metadata": {},
   "outputs": [
    {
     "name": "stdout",
     "output_type": "stream",
     "text": [
      "['nit' 'manish' 'dmin']\n"
     ]
    }
   ],
   "source": [
    "print(np.char.strip(['anita', 'manisha', 'admin'], 'a'))"
   ]
  },
  {
   "cell_type": "code",
   "execution_count": 15,
   "id": "720679b8",
   "metadata": {},
   "outputs": [
    {
     "name": "stdout",
     "output_type": "stream",
     "text": [
      "['d:m:y' 'y-m-d']\n"
     ]
    }
   ],
   "source": [
    "print(np.char.join([':', '-'], ['dmy', 'ymd']))"
   ]
  },
  {
   "cell_type": "code",
   "execution_count": null,
   "id": "6435e00a",
   "metadata": {},
   "outputs": [],
   "source": []
  }
 ],
 "metadata": {
  "kernelspec": {
   "display_name": "Python 3 (ipykernel)",
   "language": "python",
   "name": "python3"
  },
  "language_info": {
   "codemirror_mode": {
    "name": "ipython",
    "version": 3
   },
   "file_extension": ".py",
   "mimetype": "text/x-python",
   "name": "python",
   "nbconvert_exporter": "python",
   "pygments_lexer": "ipython3",
   "version": "3.11.4"
  }
 },
 "nbformat": 4,
 "nbformat_minor": 5
}
